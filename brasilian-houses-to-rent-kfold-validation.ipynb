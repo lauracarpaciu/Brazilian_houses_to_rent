{
 "cells": [
  {
   "cell_type": "code",
   "execution_count": 4,
   "metadata": {
    "scrolled": true
   },
   "outputs": [
    {
     "name": "stdout",
     "output_type": "stream",
     "text": [
      "           city  area  rooms  bathroom  parking spaces  floor  animal  \\\n",
      "0          city  area  rooms  bathroom  parking spaces  floor  animal   \n",
      "1    SÃ£o Paulo    70      2         1               1      7   acept   \n",
      "2    SÃ£o Paulo   320      4         4               0     20   acept   \n",
      "3  Porto Alegre    80      1         1               1      6   acept   \n",
      "4  Porto Alegre    51      2         1               0      2   acept   \n",
      "\n",
      "       furniture  hoa (R$)  rent amount (R$)  property tax (R$)  \\\n",
      "0      furniture  hoa (R$)  rent amount (R$)  property tax (R$)   \n",
      "1      furnished      2065              3300                211   \n",
      "2  not furnished      1200              4960               1750   \n",
      "3  not furnished      1000              2800                  0   \n",
      "4  not furnished       270              1112                 22   \n",
      "\n",
      "   fire insurance (R$)  total (R$)  \n",
      "0  fire insurance (R$)  total (R$)  \n",
      "1                   42        5618  \n",
      "2                   63        7973  \n",
      "3                   41        3841  \n",
      "4                   17        1421  \n",
      "city                   object\n",
      "area                   object\n",
      "rooms                  object\n",
      "bathroom               object\n",
      "parking spaces         object\n",
      "floor                  object\n",
      "animal                 object\n",
      "furniture              object\n",
      "hoa (R$)               object\n",
      "rent amount (R$)       object\n",
      "property tax (R$)      object\n",
      "fire insurance (R$)    object\n",
      "total (R$)             object\n",
      "dtype: object\n",
      "city                   0\n",
      "area                   0\n",
      "rooms                  0\n",
      "bathroom               0\n",
      "parking spaces         0\n",
      "floor                  0\n",
      "animal                 0\n",
      "furniture              0\n",
      "hoa (R$)               0\n",
      "rent amount (R$)       0\n",
      "property tax (R$)      0\n",
      "fire insurance (R$)    0\n",
      "total (R$)             0\n",
      "dtype: int64\n",
      "           city  area  rooms  bathroom  parking spaces  floor  animal  \\\n",
      "0          city  area  rooms  bathroom  parking spaces  floor  animal   \n",
      "1    SÃ£o Paulo    70      2         1               1      7   acept   \n",
      "2    SÃ£o Paulo   320      4         4               0     20   acept   \n",
      "3  Porto Alegre    80      1         1               1      6   acept   \n",
      "4  Porto Alegre    51      2         1               0      2   acept   \n",
      "\n",
      "       furniture  hoa (R$)  rent amount (R$)  property tax (R$)  \\\n",
      "0      furniture  hoa (R$)  rent amount (R$)  property tax (R$)   \n",
      "1      furnished      2065              3300                211   \n",
      "2  not furnished      1200              4960               1750   \n",
      "3  not furnished      1000              2800                  0   \n",
      "4  not furnished       270              1112                 22   \n",
      "\n",
      "   fire insurance (R$)  total (R$)  \n",
      "0  fire insurance (R$)  total (R$)  \n",
      "1                   42        5618  \n",
      "2                   63        7973  \n",
      "3                   41        3841  \n",
      "4                   17        1421  \n"
     ]
    }
   ],
   "source": [
    "# Load the data\n",
    "import os\n",
    "from sklearn import preprocessing, metrics\n",
    "\n",
    "# Parameters\n",
    "do_grid_search_cv = True\n",
    "do_pca = False\n",
    "import requests\n",
    "\n",
    "import numpy as np\n",
    "import pandas as pd\n",
    "import seaborn as sns\n",
    "import matplotlib.pyplot as plt\n",
    "\n",
    "# Read in the CSV file and convert \"?\" to NaN\n",
    "\n",
    "original_data = pd.read_csv('C:/Users/Mirela/PycharmProjects/House to rent/brasilian-houses-to-rent/houses_to_rent_v2.csv',\n",
    "                            names=['city','area','rooms','bathroom','parking spaces','floor','animal','furniture','hoa (R$)','rent amount (R$)','property tax (R$)','fire insurance (R$)','total (R$)'\n",
    "], sep=r'\\s*,\\s*',\n",
    "                            engine='python',\n",
    "                            na_values=\"?\")\n",
    "\n",
    "print(original_data.head())\n",
    "print(original_data.dtypes)\n",
    "\n",
    "print(original_data.isna().sum())\n",
    "original_data = original_data.dropna()\n",
    "print(original_data.head())\n"
   ]
  },
  {
   "cell_type": "code",
   "execution_count": 5,
   "metadata": {},
   "outputs": [
    {
     "name": "stdout",
     "output_type": "stream",
     "text": [
      "   city  area  rooms  bathroom  parking spaces  floor  animal  furniture  \\\n",
      "0     5   517     11        10              11     35       1          1   \n",
      "1     4   463      3         0               1     32       0          0   \n",
      "2     4   243      5         4               0     13       0          2   \n",
      "3     2   481      0         0               1     31       0          2   \n",
      "4     2   398      3         0               0     12       0          2   \n",
      "\n",
      "   hoa (R$)  rent amount (R$)  property tax (R$)  fire insurance (R$)  \\\n",
      "0      1679              1195               1243                  216   \n",
      "1       576               639                404                  151   \n",
      "2       133               835                320                  175   \n",
      "3         4               549                  0                  150   \n",
      "4       787                61                423                   75   \n",
      "\n",
      "   total (R$)  \n",
      "0        5751  \n",
      "1        4155  \n",
      "2        5046  \n",
      "3        3102  \n",
      "4         700  \n"
     ]
    }
   ],
   "source": [
    "# Encode the categorical features as numbers\n",
    "result = original_data.copy()\n",
    "encoders = {}\n",
    "for column in result.columns:\n",
    "\n",
    "    if result.dtypes[column] == pd.np.object:\n",
    "        encoders[column] = preprocessing.LabelEncoder()\n",
    "        result[column] = encoders[column].fit_transform(result[column])\n",
    "\n",
    "features = result\n",
    "feature_names = features.columns.get_values()\n",
    "print(features.head())"
   ]
  },
  {
   "cell_type": "code",
   "execution_count": 6,
   "metadata": {},
   "outputs": [],
   "source": [
    "labels = np.array(features['rent amount (R$)']) # Create an array.\n",
    "\n",
    "# Remove the labels from the features\n",
    "# axis 1 refers to the columns\n",
    "\n",
    "features = features.drop('rent amount (R$)', axis=1) #  Remove columns by specifying label names and coresponding axis"
   ]
  },
  {
   "cell_type": "code",
   "execution_count": 7,
   "metadata": {},
   "outputs": [],
   "source": [
    "# data normalization\n",
    "from sklearn.preprocessing import Normalizer\n",
    "\n",
    "normalizer = Normalizer()\n",
    "features = normalizer.fit_transform(features)"
   ]
  },
  {
   "cell_type": "code",
   "execution_count": 8,
   "metadata": {},
   "outputs": [
    {
     "name": "stdout",
     "output_type": "stream",
     "text": [
      "Training Features Shape: (8554, 12)\n",
      "Training Labels Shape: (8554,)\n",
      "Testing Features Shape: (2139, 12)\n",
      "Testing Labels Shape: (2139,)\n"
     ]
    }
   ],
   "source": [
    "# Using Skicit-learn to split data into training and testing sets\n",
    "\n",
    "from sklearn.model_selection import train_test_split\n",
    "\n",
    "# Split data into random train and test subsets\n",
    "train_features, test_features, train_labels, test_labels = train_test_split(features, labels, test_size=0.2,\n",
    "                                                                            random_state=42)\n",
    "# returns list containing train-test split of inputs.\n",
    "\n",
    "print('Training Features Shape:', train_features.shape)\n",
    "print('Training Labels Shape:', train_labels.shape)\n",
    "print('Testing Features Shape:', test_features.shape)\n",
    "print('Testing Labels Shape:', test_labels.shape)"
   ]
  },
  {
   "cell_type": "code",
   "execution_count": 9,
   "metadata": {},
   "outputs": [
    {
     "name": "stderr",
     "output_type": "stream",
     "text": [
      "Using TensorFlow backend.\n"
     ]
    }
   ],
   "source": [
    "from keras.models import Sequential\n",
    "from keras.wrappers.scikit_learn import KerasRegressor\n",
    "from sklearn.model_selection import cross_val_score\n",
    "from sklearn.model_selection import KFold\n",
    "from sklearn.preprocessing import StandardScaler\n",
    "from sklearn.pipeline import Pipeline\n",
    "from keras.layers import Dense, Dropout\n",
    "\n",
    "# define the model\n",
    "def larger_model():\n",
    "    # create model\n",
    "    dropout = 0.05\n",
    "    model = Sequential()\n",
    "    model.add(Dense(64,kernel_initializer='uniform', activation='relu',input_shape=(train_features.shape[1],)))\n",
    "    model.add(Dropout(rate=dropout))\n",
    "    model.add(Dense(64,kernel_initializer='uniform', activation='relu'))\n",
    "    model.add(Dropout(rate=dropout))\n",
    "    model.add(Dense(1,kernel_initializer='uniform'))\n",
    "    # Compile model\n",
    "    model.compile(loss='mean_squared_error', optimizer='adam')\n",
    "    return model"
   ]
  },
  {
   "cell_type": "code",
   "execution_count": 10,
   "metadata": {},
   "outputs": [
    {
     "name": "stdout",
     "output_type": "stream",
     "text": [
      "Larger: -31656.15 (1621.05) MSE\n",
      "-28592.93343633979\n"
     ]
    },
    {
     "data": {
      "text/plain": [
       "(2139,)"
      ]
     },
     "execution_count": 10,
     "metadata": {},
     "output_type": "execute_result"
    }
   ],
   "source": [
    "# fix random seed for reproducibility\n",
    "seed = 7\n",
    "np.random.seed(seed)\n",
    "np.random.seed(seed)\n",
    "estimators = []\n",
    "estimators.append(('standardize', StandardScaler()))\n",
    "estimators.append(('mlp', KerasRegressor(build_fn=larger_model, epochs=50, batch_size=5, verbose=0)))\n",
    "pipeline = Pipeline(estimators)\n",
    "kfold = KFold(n_splits=4, random_state=seed)\n",
    "results = cross_val_score(pipeline, train_features, train_labels, cv=kfold, n_jobs=1)\n",
    "print(\"Larger: %.2f (%.2f) MSE\" % (results.mean(), results.std()))\n",
    "pipeline.fit(train_features, train_labels)\n",
    "print(pipeline.score(test_features,test_labels))\n",
    "test_predictions = pipeline.predict(test_features).flatten()\n",
    "print(test_predictions.shape)\n"
   ]
  },
  {
   "cell_type": "code",
   "execution_count": 11,
   "metadata": {},
   "outputs": [
    {
     "data": {
      "image/png": "[encoded data removed]",
      "text/plain": [
       "<Figure size 432x288 with 1 Axes>"
      ]
     },
     "metadata": {
      "needs_background": "light"
     },
     "output_type": "display_data"
    }
   ],
   "source": [
    "plt.scatter(test_labels, test_predictions)\n",
    "plt.xlabel('True Values [rent amount]')\n",
    "plt.ylabel('Predictions [rent amount]')\n",
    "plt.axis('equal')\n",
    "plt.axis('square')\n",
    "plt.xlim([0,plt.xlim()[1]])\n",
    "plt.ylim([0,plt.ylim()[1]])\n",
    "_ = plt.plot([-100, 20000], [-100, 20000])\n"
   ]
  },
  {
   "cell_type": "code",
   "execution_count": 12,
   "metadata": {},
   "outputs": [
    {
     "data": {
      "image/png": "[encoded data removed]",
      "text/plain": [
       "<Figure size 432x288 with 1 Axes>"
      ]
     },
     "metadata": {
      "needs_background": "light"
     },
     "output_type": "display_data"
    }
   ],
   "source": [
    "error = test_predictions - test_labels\n",
    "plt.hist(error, bins = 25)\n",
    "plt.xlabel(\"Prediction Error [rent amount]\")\n",
    "_ = plt.ylabel(\"Count\")"
   ]
  },
  {
   "cell_type": "markdown",
   "metadata": {},
   "source": [
    "Conclusions:\n",
    "\n",
    "The evaluation metrics available for regression models are: Mean Absolute Error, Root Mean Absolute Error, Relative Absolute Error, Relative Squared Error, and the Coefficient of Determination.\n",
    "The term \"error\" here represents the difference between the predicted value and the true value. The absolute value or the square of this difference is usually computed to capture the total magnitude of error across all instances, as the difference between the predicted and true value could be negative in some cases. The error metrics measure the predictive performance of a regression model in terms of the mean deviation of its predictions from the true values. Lower error values mean the model is more accurate in making predictions. An overall error metric of zero means that the model fits the data perfectly.\n"
   ]
  }
 ],
 "metadata": {
  "kernelspec": {
   "display_name": "Python 3",
   "language": "python",
   "name": "python3"
  },
  "language_info": {
   "codemirror_mode": {
    "name": "ipython",
    "version": 3
   },
   "file_extension": ".py",
   "mimetype": "text/x-python",
   "name": "python",
   "nbconvert_exporter": "python",
   "pygments_lexer": "ipython3",
   "version": "3.8.5"
  }
 },
 "nbformat": 4,
 "nbformat_minor": 2
}
